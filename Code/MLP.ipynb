{
 "cells": [
  {
   "cell_type": "markdown",
   "id": "be51e49b-1c81-406d-9365-9111d85d7acf",
   "metadata": {},
   "source": [
    "# Import Fish Data"
   ]
  },
  {
   "cell_type": "code",
   "execution_count": 5,
   "id": "f1642f4a-b355-45fc-a2e0-178b5e96f86f",
   "metadata": {},
   "outputs": [],
   "source": [
    "import pandas as pd"
   ]
  },
  {
   "cell_type": "code",
   "execution_count": 6,
   "id": "2500536c-9454-4620-966d-9712fd984156",
   "metadata": {},
   "outputs": [],
   "source": [
    "Data = pd.read_csv(\"MergedData.csv\")"
   ]
  },
  {
   "cell_type": "code",
   "execution_count": 7,
   "id": "eb14b2ec-2bba-4465-b7bf-091ed05e3476",
   "metadata": {},
   "outputs": [
    {
     "data": {
      "text/html": [
       "<div>\n",
       "<style scoped>\n",
       "    .dataframe tbody tr th:only-of-type {\n",
       "        vertical-align: middle;\n",
       "    }\n",
       "\n",
       "    .dataframe tbody tr th {\n",
       "        vertical-align: top;\n",
       "    }\n",
       "\n",
       "    .dataframe thead th {\n",
       "        text-align: right;\n",
       "    }\n",
       "</style>\n",
       "<table border=\"1\" class=\"dataframe\">\n",
       "  <thead>\n",
       "    <tr style=\"text-align: right;\">\n",
       "      <th></th>\n",
       "      <th>Date</th>\n",
       "      <th>Kasillof_Count</th>\n",
       "      <th>Species</th>\n",
       "      <th>Water Temperature</th>\n",
       "      <th>Tide_Value</th>\n",
       "      <th>Type</th>\n",
       "      <th>Kenai_River_Count</th>\n",
       "    </tr>\n",
       "  </thead>\n",
       "  <tbody>\n",
       "    <tr>\n",
       "      <th>0</th>\n",
       "      <td>2024-08-09</td>\n",
       "      <td>6480.0</td>\n",
       "      <td>Sockeye</td>\n",
       "      <td>56.512</td>\n",
       "      <td>2.572</td>\n",
       "      <td>Low</td>\n",
       "      <td>11937.0</td>\n",
       "    </tr>\n",
       "    <tr>\n",
       "      <th>1</th>\n",
       "      <td>2024-08-09</td>\n",
       "      <td>6480.0</td>\n",
       "      <td>Sockeye</td>\n",
       "      <td>56.512</td>\n",
       "      <td>19.868</td>\n",
       "      <td>High</td>\n",
       "      <td>11937.0</td>\n",
       "    </tr>\n",
       "    <tr>\n",
       "      <th>2</th>\n",
       "      <td>2024-08-09</td>\n",
       "      <td>6480.0</td>\n",
       "      <td>Sockeye</td>\n",
       "      <td>56.512</td>\n",
       "      <td>18.789</td>\n",
       "      <td>High</td>\n",
       "      <td>11937.0</td>\n",
       "    </tr>\n",
       "    <tr>\n",
       "      <th>3</th>\n",
       "      <td>2024-08-09</td>\n",
       "      <td>6480.0</td>\n",
       "      <td>Sockeye</td>\n",
       "      <td>56.512</td>\n",
       "      <td>2.060</td>\n",
       "      <td>Low</td>\n",
       "      <td>11937.0</td>\n",
       "    </tr>\n",
       "    <tr>\n",
       "      <th>4</th>\n",
       "      <td>2024-08-08</td>\n",
       "      <td>6474.0</td>\n",
       "      <td>Sockeye</td>\n",
       "      <td>56.646</td>\n",
       "      <td>0.372</td>\n",
       "      <td>Low</td>\n",
       "      <td>6858.0</td>\n",
       "    </tr>\n",
       "  </tbody>\n",
       "</table>\n",
       "</div>"
      ],
      "text/plain": [
       "         Date  Kasillof_Count  Species  Water Temperature  Tide_Value  Type   \n",
       "0  2024-08-09          6480.0  Sockeye             56.512       2.572   Low  \\\n",
       "1  2024-08-09          6480.0  Sockeye             56.512      19.868  High   \n",
       "2  2024-08-09          6480.0  Sockeye             56.512      18.789  High   \n",
       "3  2024-08-09          6480.0  Sockeye             56.512       2.060   Low   \n",
       "4  2024-08-08          6474.0  Sockeye             56.646       0.372   Low   \n",
       "\n",
       "   Kenai_River_Count  \n",
       "0            11937.0  \n",
       "1            11937.0  \n",
       "2            11937.0  \n",
       "3            11937.0  \n",
       "4             6858.0  "
      ]
     },
     "execution_count": 7,
     "metadata": {},
     "output_type": "execute_result"
    }
   ],
   "source": [
    "Data.head()"
   ]
  },
  {
   "cell_type": "markdown",
   "id": "a513a26a-8caa-497a-b40e-b244aae2bfbe",
   "metadata": {},
   "source": [
    "# Prepping Data for Nueral Network"
   ]
  },
  {
   "cell_type": "markdown",
   "id": "fcd3321e-9de2-41f9-aed4-029d6342c78e",
   "metadata": {},
   "source": [
    "## Add lagged Tide Feature"
   ]
  },
  {
   "cell_type": "code",
   "execution_count": 8,
   "id": "ec946b51-b081-4182-8549-9f10747d1910",
   "metadata": {
    "tags": []
   },
   "outputs": [
    {
     "data": {
      "text/html": [
       "<div>\n",
       "<style scoped>\n",
       "    .dataframe tbody tr th:only-of-type {\n",
       "        vertical-align: middle;\n",
       "    }\n",
       "\n",
       "    .dataframe tbody tr th {\n",
       "        vertical-align: top;\n",
       "    }\n",
       "\n",
       "    .dataframe thead th {\n",
       "        text-align: right;\n",
       "    }\n",
       "</style>\n",
       "<table border=\"1\" class=\"dataframe\">\n",
       "  <thead>\n",
       "    <tr style=\"text-align: right;\">\n",
       "      <th></th>\n",
       "      <th>Date</th>\n",
       "      <th>Kasillof_Count</th>\n",
       "      <th>Kenai_River_Count</th>\n",
       "      <th>Water Temperature</th>\n",
       "      <th>Tide_Value</th>\n",
       "      <th>Tide1</th>\n",
       "      <th>Tide2</th>\n",
       "      <th>Tide3</th>\n",
       "      <th>Tide4</th>\n",
       "      <th>Tide5</th>\n",
       "    </tr>\n",
       "  </thead>\n",
       "  <tbody>\n",
       "    <tr>\n",
       "      <th>4969</th>\n",
       "      <td>2004-06-15</td>\n",
       "      <td>4566.0</td>\n",
       "      <td>NaN</td>\n",
       "      <td>49.208</td>\n",
       "      <td>6.060</td>\n",
       "      <td>18.132</td>\n",
       "      <td>-0.591</td>\n",
       "      <td>19.791</td>\n",
       "      <td>NaN</td>\n",
       "      <td>NaN</td>\n",
       "    </tr>\n",
       "    <tr>\n",
       "      <th>4965</th>\n",
       "      <td>2004-06-16</td>\n",
       "      <td>2187.0</td>\n",
       "      <td>NaN</td>\n",
       "      <td>49.096</td>\n",
       "      <td>-1.157</td>\n",
       "      <td>19.854</td>\n",
       "      <td>18.600</td>\n",
       "      <td>6.141</td>\n",
       "      <td>6.060</td>\n",
       "      <td>18.132</td>\n",
       "    </tr>\n",
       "    <tr>\n",
       "      <th>4961</th>\n",
       "      <td>2004-06-17</td>\n",
       "      <td>1747.0</td>\n",
       "      <td>NaN</td>\n",
       "      <td>49.058</td>\n",
       "      <td>6.076</td>\n",
       "      <td>18.949</td>\n",
       "      <td>-1.512</td>\n",
       "      <td>19.878</td>\n",
       "      <td>-1.157</td>\n",
       "      <td>19.854</td>\n",
       "    </tr>\n",
       "    <tr>\n",
       "      <th>4958</th>\n",
       "      <td>2004-06-18</td>\n",
       "      <td>3048.0</td>\n",
       "      <td>NaN</td>\n",
       "      <td>49.425</td>\n",
       "      <td>19.159</td>\n",
       "      <td>19.851</td>\n",
       "      <td>-1.684</td>\n",
       "      <td>6.076</td>\n",
       "      <td>18.949</td>\n",
       "      <td>-1.512</td>\n",
       "    </tr>\n",
       "    <tr>\n",
       "      <th>4954</th>\n",
       "      <td>2004-06-19</td>\n",
       "      <td>3251.0</td>\n",
       "      <td>NaN</td>\n",
       "      <td>49.892</td>\n",
       "      <td>-1.668</td>\n",
       "      <td>19.217</td>\n",
       "      <td>5.931</td>\n",
       "      <td>19.734</td>\n",
       "      <td>19.159</td>\n",
       "      <td>19.851</td>\n",
       "    </tr>\n",
       "  </tbody>\n",
       "</table>\n",
       "</div>"
      ],
      "text/plain": [
       "            Date  Kasillof_Count  Kenai_River_Count  Water Temperature   \n",
       "4969  2004-06-15          4566.0                NaN             49.208  \\\n",
       "4965  2004-06-16          2187.0                NaN             49.096   \n",
       "4961  2004-06-17          1747.0                NaN             49.058   \n",
       "4958  2004-06-18          3048.0                NaN             49.425   \n",
       "4954  2004-06-19          3251.0                NaN             49.892   \n",
       "\n",
       "      Tide_Value   Tide1   Tide2   Tide3   Tide4   Tide5  \n",
       "4969       6.060  18.132  -0.591  19.791     NaN     NaN  \n",
       "4965      -1.157  19.854  18.600   6.141   6.060  18.132  \n",
       "4961       6.076  18.949  -1.512  19.878  -1.157  19.854  \n",
       "4958      19.159  19.851  -1.684   6.076  18.949  -1.512  \n",
       "4954      -1.668  19.217   5.931  19.734  19.159  19.851  "
      ]
     },
     "execution_count": 8,
     "metadata": {},
     "output_type": "execute_result"
    }
   ],
   "source": [
    "Data = Data.iloc[::-1]\n",
    "for i in range(1,6,1):\n",
    "        Data[f\"Tide{i}\"] = Data[\"Tide_Value\"].shift(i)\n",
    "\n",
    "\n",
    "uniqueExtract = Data[[\"Date\",\"Kasillof_Count\", \"Kenai_River_Count\", \"Water Temperature\", \"Tide_Value\", \"Tide1\", \"Tide2\", \"Tide3\", \"Tide4\", \"Tide5\"]]\n",
    "\n",
    "uniqueExtract = uniqueExtract.drop_duplicates(subset = ['Date'], keep = 'last')\n",
    "\n",
    "uniqueExtract.head()\n"
   ]
  },
  {
   "cell_type": "markdown",
   "id": "ff9aee5b-5685-44d4-9c5b-ede0bb4d988f",
   "metadata": {},
   "source": [
    "## Add lagged fish count and temperature feature"
   ]
  },
  {
   "cell_type": "code",
   "execution_count": 9,
   "id": "7242bd63-c427-4d3b-a8ab-5de6727aa510",
   "metadata": {
    "tags": []
   },
   "outputs": [],
   "source": [
    "import warnings\n",
    "import numpy as np\n",
    "warnings.filterwarnings('ignore')\n",
    "\n",
    "uniqueExtract[\"Date\"] = pd.to_datetime(uniqueExtract[\"Date\"])\n",
    "uniqueExtract = uniqueExtract.sort_values(by = \"Date\")\n",
    "\n",
    "Start_Date = \"2004-01-01\"\n",
    "End_Date = \"2025-01-01\"\n",
    "\n",
    "mlpData = pd.DataFrame()\n",
    "\n",
    "\n",
    "for year in range(2004,2026):\n",
    "    subset = uniqueExtract[(uniqueExtract[\"Date\"] > f\"{year}-01-01\") & (uniqueExtract[\"Date\"] < f\"{year+1}-01-01\") ]\n",
    "\n",
    "    \n",
    "    for i in range(1,6,1):\n",
    "        subset[f\"lag{i}_Fish_Kas\"] = subset[\"Kasillof_Count\"].shift(i)\n",
    "        subset[f\"lag{i}_Fish_Ken\"] = subset[\"Kenai_River_Count\"].shift(i)\n",
    "        subset[f\"lag{i}_Temp\"] = subset[\"Water Temperature\"].shift(i)\n",
    " \n",
    "    subset[\"Target\"] = subset[\"Kasillof_Count\"].shift(-1)\n",
    "    mlpData = pd.concat([mlpData,subset.iloc[5:len(subset)-1,]], axis = 0)  \n",
    "\n",
    "mlpData = mlpData.fillna(0)\n",
    "    "
   ]
  },
  {
   "cell_type": "markdown",
   "id": "90cc20e4-95e5-46b5-a0f6-dfd11cf0f545",
   "metadata": {
    "tags": []
   },
   "source": [
    "## Add in Time Invariant Fixed Effects "
   ]
  },
  {
   "cell_type": "code",
   "execution_count": 10,
   "id": "288cb020-afe3-449f-b6a7-886e5d63466c",
   "metadata": {},
   "outputs": [],
   "source": [
    "import datetime\n",
    "dOY = []\n",
    "dM = []\n",
    "dYR = []\n",
    "\n",
    "for time in mlpData[\"Date\"]:\n",
    "    dOY.append(time.timetuple().tm_yday)\n",
    "    dM.append(time.timetuple().tm_mon)\n",
    "    dYR.append(time.timetuple().tm_year)\n",
    "    \n",
    "mlpData[\"Day of Year\"] = dOY\n",
    "mlpData[\"Month\"] = dM\n",
    "mlpData[\"Year\"] = dYR\n",
    "mlpData.head()\n",
    "\n",
    "mlpData.to_csv(\"mlpData.csv\")"
   ]
  },
  {
   "cell_type": "markdown",
   "id": "2ea85cef-efcd-44ae-b704-9de3b5699704",
   "metadata": {},
   "source": [
    "# Create a Basic MLP Architecture"
   ]
  },
  {
   "cell_type": "code",
   "execution_count": 12,
   "id": "766b2a32-c08c-497a-b82e-2665c9479a72",
   "metadata": {},
   "outputs": [
    {
     "name": "stdout",
     "output_type": "stream",
     "text": [
      "Index(['Kasillof_Count', 'Kenai_River_Count', 'Water Temperature',\n",
      "       'Tide_Value', 'Tide1', 'Tide2', 'Tide3', 'Tide4', 'Tide5',\n",
      "       'lag1_Fish_Kas', 'lag1_Fish_Ken', 'lag1_Temp', 'lag2_Fish_Kas',\n",
      "       'lag2_Fish_Ken', 'lag2_Temp', 'lag3_Fish_Kas', 'lag3_Fish_Ken',\n",
      "       'lag3_Temp', 'lag4_Fish_Kas', 'lag4_Fish_Ken', 'lag4_Temp',\n",
      "       'lag5_Fish_Kas', 'lag5_Fish_Ken', 'lag5_Temp', 'Day of Year', 'Month',\n",
      "       'Year'],\n",
      "      dtype='object')\n"
     ]
    },
    {
     "data": {
      "text/plain": [
       "'\\nY = mlpData[\"Target\"]\\n\\n\\nfishModel = Sequential([\\n    Dense(16, input_shape = (27,), activation = \"relu\"),\\n    Dense(10, activation = \"linear\"),\\n    Dense(1, activation = \"linear\")\\n])\\n\\nfishModel.compile(optimizer = Adam(), loss = \"mean_squared_error\", metrics = [\"mean_squared_error\"])\\n\\nprint(fishModel.summary())\\n'"
      ]
     },
     "execution_count": 12,
     "metadata": {},
     "output_type": "execute_result"
    }
   ],
   "source": [
    "import tensorflow as tf\n",
    "from tensorflow.keras.models import Sequential\n",
    "from tensorflow.keras.layers import Dense\n",
    "from tensorflow.keras.optimizers import Adam\n",
    "\n",
    "X = mlpData.drop( [\"Date\", \"Target\"],axis = 1)\n",
    "print(X.shape)\n",
    "\n",
    "Y = mlpData[\"Target\"]\n",
    "\n",
    "\n",
    "fishModel = Sequential([\n",
    "    Dense(16, input_shape = (27,), activation = \"relu\"),\n",
    "    Dense(10, activation = \"linear\"),\n",
    "    Dense(1, activation = \"linear\")\n",
    "])\n",
    "\n",
    "fishModel.compile(optimizer = Adam(), loss = \"mean_squared_error\", metrics = [\"mean_squared_error\"])\n",
    "\n",
    "print(fishModel.summary())"
   ]
  },
  {
   "cell_type": "markdown",
   "id": "cff412c9-a297-44a6-8596-9ca8d056259a",
   "metadata": {},
   "source": [
    "# Train the Model"
   ]
  },
  {
   "cell_type": "code",
   "execution_count": 85,
   "id": "cb930523-7e78-498a-bbc2-fcb11a9e0770",
   "metadata": {
    "tags": []
   },
   "outputs": [
    {
     "name": "stdout",
     "output_type": "stream",
     "text": [
      "Epoch 1/10\n",
      "1044/1044 [==============================] - 2s 2ms/step - loss: 108415528.0000 - mean_squared_error: 108415528.0000 - val_loss: 264613744.0000 - val_mean_squared_error: 264613744.0000\n",
      "Epoch 2/10\n",
      "1044/1044 [==============================] - 2s 2ms/step - loss: 44663104.0000 - mean_squared_error: 44663104.0000 - val_loss: 258158256.0000 - val_mean_squared_error: 258158256.0000\n",
      "Epoch 3/10\n",
      "1044/1044 [==============================] - 2s 2ms/step - loss: 38164364.0000 - mean_squared_error: 38164364.0000 - val_loss: 218380400.0000 - val_mean_squared_error: 218380400.0000\n",
      "Epoch 4/10\n",
      "1044/1044 [==============================] - 2s 2ms/step - loss: 34590656.0000 - mean_squared_error: 34590656.0000 - val_loss: 193924304.0000 - val_mean_squared_error: 193924304.0000\n",
      "Epoch 5/10\n",
      "1044/1044 [==============================] - 2s 2ms/step - loss: 32709172.0000 - mean_squared_error: 32709172.0000 - val_loss: 182184928.0000 - val_mean_squared_error: 182184928.0000\n",
      "Epoch 6/10\n",
      "1044/1044 [==============================] - 2s 2ms/step - loss: 31718850.0000 - mean_squared_error: 31718850.0000 - val_loss: 171897072.0000 - val_mean_squared_error: 171897072.0000\n",
      "Epoch 7/10\n",
      "1044/1044 [==============================] - 2s 2ms/step - loss: 30837030.0000 - mean_squared_error: 30837030.0000 - val_loss: 172890432.0000 - val_mean_squared_error: 172890432.0000\n",
      "Epoch 8/10\n",
      "1044/1044 [==============================] - 2s 2ms/step - loss: 30245032.0000 - mean_squared_error: 30245032.0000 - val_loss: 164483280.0000 - val_mean_squared_error: 164483280.0000\n",
      "Epoch 9/10\n",
      "1044/1044 [==============================] - 2s 2ms/step - loss: 29871778.0000 - mean_squared_error: 29871778.0000 - val_loss: 158171424.0000 - val_mean_squared_error: 158171424.0000\n",
      "Epoch 10/10\n",
      "1044/1044 [==============================] - 2s 2ms/step - loss: 29408018.0000 - mean_squared_error: 29408018.0000 - val_loss: 160176064.0000 - val_mean_squared_error: 160176064.0000\n",
      "INFO:tensorflow:Assets written to: FishModel/assets\n"
     ]
    }
   ],
   "source": [
    "fishModel.fit(X,Y, epochs = 10, batch_size = 1, shuffle = False, validation_split = 0.1)\n",
    "fishModel.save(\"FishModel\")"
   ]
  },
  {
   "cell_type": "markdown",
   "id": "f26875d3-b72c-4fda-8503-0216e7a4ae0f",
   "metadata": {},
   "source": [
    "# How well Does the Model Forecast Fish Inflows in 2024?"
   ]
  },
  {
   "cell_type": "code",
   "execution_count": 86,
   "id": "646abc91-34e5-4841-92ed-5cb50a143a27",
   "metadata": {
    "tags": []
   },
   "outputs": [
    {
     "name": "stdout",
     "output_type": "stream",
     "text": [
      "2/2 [==============================] - 0s 2ms/step\n"
     ]
    },
    {
     "data": {
      "text/plain": [
       "<matplotlib.legend.Legend at 0x13118a260>"
      ]
     },
     "execution_count": 86,
     "metadata": {},
     "output_type": "execute_result"
    },
    {
     "data": {
      "image/png": "[encoded data removed]",
      "text/plain": [
       "<Figure size 640x480 with 1 Axes>"
      ]
     },
     "metadata": {},
     "output_type": "display_data"
    }
   ],
   "source": [
    "import matplotlib.pyplot as pyplot\n",
    "\n",
    "\n",
    "fishModel = tf.keras.models.load_model(\"FishModel\")\n",
    "X_2024 = mlpData[ mlpData[\"Year\"] == 2024].drop( [\"Date\", \"Target\"],axis = 1)\n",
    "Y_2024 = mlpData[ mlpData[\"Year\"] == 2024][\"Target\"]\n",
    "X_Axis = mlpData[ mlpData[\"Year\"] == 2024][\"Day of Year\"]\n",
    "\n",
    "Fit = fishModel.predict(X_2024)\n",
    "pyplot.plot(X_Axis, Y_2024, label = \"Actual\", color = \"gold\")\n",
    "pyplot.plot(X_Axis, Fit, label = \"Predicted\", color = \"red\")\n",
    "pyplot.legend()"
   ]
  }
 ],
 "metadata": {
  "kernelspec": {
   "display_name": "Python 3 (ipykernel)",
   "language": "python",
   "name": "python3"
  },
  "language_info": {
   "codemirror_mode": {
    "name": "ipython",
    "version": 3
   },
   "file_extension": ".py",
   "mimetype": "text/x-python",
   "name": "python",
   "nbconvert_exporter": "python",
   "pygments_lexer": "ipython3",
   "version": "3.10.6"
  }
 },
 "nbformat": 4,
 "nbformat_minor": 5
}
