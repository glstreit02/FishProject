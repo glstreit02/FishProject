{
 "cells": [
  {
   "cell_type": "markdown",
   "id": "0fecd8dd-3e44-45ba-b63f-ca7cfe93a32d",
   "metadata": {},
   "source": [
    "# Required Imports"
   ]
  },
  {
   "cell_type": "code",
   "execution_count": null,
   "id": "3e65d5d0-92f7-49e2-8396-d8e19d1ad75c",
   "metadata": {},
   "outputs": [],
   "source": [
    "import requests\n",
    "import pandas as pd\n",
    "import time"
   ]
  },
  {
   "cell_type": "markdown",
   "id": "5e540770-c493-40bf-9f9f-d3c1dc62f088",
   "metadata": {},
   "source": [
    "# Get Tide Data from NOAA"
   ]
  },
  {
   "cell_type": "code",
   "execution_count": null,
   "id": "45751117-cb0d-4840-92a0-9526d0e0f1ac",
   "metadata": {},
   "outputs": [],
   "source": [
    "Nikiski = 9455760\n",
    "\n",
    "def getTideData():\n",
    "    start_date = 19830611\n",
    "    end_date = 20240809\n",
    "    new_start = None\n",
    "    new_end = None\n",
    "    allData = pd.DataFrame()\n",
    "    Time = []\n",
    "    Tide_Value = []\n",
    "    Type = []\n",
    "\n",
    "    for year in range(1983,2025):\n",
    "        for month in range(3,13,3):\n",
    "            \n",
    "            begin_cur_month = month\n",
    "           \n",
    "            if(month<10):\n",
    "                cur_month = f\"{0}{month}\"\n",
    "\n",
    "            new_start = f\"{year}{cur_month}01\"\n",
    "            \n",
    "            if(month == 12):\n",
    "                    new_end = f\"{year+1}0301\"\n",
    "            else:\n",
    "                if(month <9):\n",
    "                    new_end = f\"{year}{0}{month+3}01\"\n",
    "                else:\n",
    "                    new_end = f\"{year}{month+3}01\"\n",
    "\n",
    "               \n",
    "            response = requests.get(f\"https://api.tidesandcurrents.noaa.gov/api\n",
    "            /prod/datagetter?begin_date={new_start}&end_date={new_end}&station={Nikiski}&\n",
    "            product=predictions&datum=MLLW&time_zone=lst_ldt&interval=hilo&units=english&\n",
    "            application=DataAPI_Sample&format=json\")\n",
    "\n",
    "            if response.status_code == 200:\n",
    "                Data = response.json()\n",
    "               \n",
    "                \n",
    "                for Obs in Data[\"predictions\"]:\n",
    "                    Time.append(Obs[\"t\"])\n",
    "                    Tide_Value.append(Obs[\"v\"])\n",
    "                    if Obs[\"type\"] == \"L\":\n",
    "                        Type.append(\"Low\")\n",
    "                    else:\n",
    "                        Type.append(\"High\")\n",
    "\n",
    "            else:\n",
    "                print(\"Request Failed\")\n",
    "                print(\"Start\",new_start)\n",
    "                print(\"End\",new_end)\n",
    "            \n",
    "            time.sleep(15)\n",
    "            print(end_date)\n",
    "    Data = pd.DataFrame({\n",
    "                         \"Time\":Time,\n",
    "                         \"Tide_Value\": Tide_Value,\n",
    "                         \"Type\": Type\n",
    "                         })\n",
    "    \n",
    "    Data.to_csv(\"TideData.csv\")\n",
    "            "
   ]
  },
  {
   "cell_type": "markdown",
   "id": "a9793683-e7ec-4641-acaa-6249b2e6539e",
   "metadata": {},
   "source": [
    "# Get Water Temperature Data"
   ]
  },
  {
   "cell_type": "code",
   "execution_count": null,
   "id": "909b67ea-080b-4b37-a864-ca6509db1f19",
   "metadata": {},
   "outputs": [],
   "source": [
    "def getWaterTemp():\n",
    "\n",
    "    new_start = None\n",
    "    new_end = None\n",
    "    allData = pd.DataFrame()\n",
    "    Time = []\n",
    "    Temp = []\n",
    "    \n",
    "    for year in range(1997,2025):\n",
    "        for month in range(3,13,3):\n",
    "            \n",
    "            begin_cur_month = month\n",
    "           \n",
    "            if(month<10):\n",
    "                cur_month = f\"{0}{month}\"\n",
    "\n",
    "            new_start = f\"{year}{cur_month}01\"\n",
    "            \n",
    "            if(month == 12):\n",
    "                    new_end = f\"{year+1}0301\"\n",
    "            else:\n",
    "                if(month <9):\n",
    "                    new_end = f\"{year}{0}{month+3}01\"\n",
    "                else:\n",
    "                    new_end = f\"{year}{month+3}01\"\n",
    "\n",
    "            response = requests.get(f\"https://api.tidesandcurrents.noaa.gov/api/prod/datagetter?\n",
    "            begin_date={new_start}&end_date={new_end}&station={Nikiski}&product=water_temperature&\n",
    "            time_zone=lst_ldt&units=english&interval=h&format=json\")\n",
    "\n",
    "            if response.status_code == 200:\n",
    "                Data = response.json()\n",
    "               \n",
    "                if(\"error\" in Data.keys()):\n",
    "                    continue \n",
    "                \n",
    "                for Obs in Data[\"data\"]:\n",
    "                    Time.append(Obs[\"t\"])\n",
    "                    Temp.append(Obs[\"v\"])\n",
    "\n",
    "                    if Obs[\"v\"] != \"\":\n",
    "                        if float(Obs[\"v\"]) < 20: \n",
    "                            print(\"Invalid Ultra Low Temp\", Obs[\"v\"])\n",
    "\n",
    "            else:\n",
    "                print(\"Request Failed\")\n",
    "                print(\"Start\",new_start)\n",
    "                print(\"End\",new_end)\n",
    "            \n",
    "            time.sleep(15)\n",
    "            print(new_end)\n",
    "\n",
    "    Data = pd.DataFrame({\n",
    "                         \"Time\":Time,\n",
    "                         \"Type\": Temp\n",
    "                         })\n",
    "    \n",
    "    Data.to_csv(\"TempData.csv\")\n"
   ]
  },
  {
   "cell_type": "markdown",
   "id": "3aebd8be-8dc8-45f4-b029-7eedcd09f0bd",
   "metadata": {},
   "source": [
    "# Run Data Collection Scripts"
   ]
  },
  {
   "cell_type": "code",
   "execution_count": null,
   "id": "788a8894-17a6-4551-bcb2-477b5049aae0",
   "metadata": {},
   "outputs": [],
   "source": [
    "if __name__ == \"__main__\":\n",
    "    getTideData()\n",
    "    getWaterTemp()"
   ]
  },
  {
   "cell_type": "markdown",
   "id": "2cfbadc6-a993-40e7-954f-ac01b74d7b40",
   "metadata": {},
   "source": [
    "#### The historical fish data was conveniantly available to download in excel format through the Alaska Department of Fish and Game \n",
    " \n",
    "#### All of the data was then combined using Excel and associated tools like Power Query to get the MergedData.csv file"
   ]
  }
 ],
 "metadata": {
  "kernelspec": {
   "display_name": "Python 3 (ipykernel)",
   "language": "python",
   "name": "python3"
  },
  "language_info": {
   "codemirror_mode": {
    "name": "ipython",
    "version": 3
   },
   "file_extension": ".py",
   "mimetype": "text/x-python",
   "name": "python",
   "nbconvert_exporter": "python",
   "pygments_lexer": "ipython3",
   "version": "3.10.6"
  }
 },
 "nbformat": 4,
 "nbformat_minor": 5
}
